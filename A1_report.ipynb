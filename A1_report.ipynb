{
  "nbformat": 4,
  "nbformat_minor": 0,
  "metadata": {
    "colab": {
      "name": "A1  report",
      "version": "0.3.2",
      "provenance": [],
      "collapsed_sections": [],
      "toc_visible": true,
      "include_colab_link": true
    },
    "kernelspec": {
      "name": "python3",
      "display_name": "Python 3"
    }
  },
  "cells": [
    {
      "cell_type": "markdown",
      "metadata": {
        "id": "view-in-github",
        "colab_type": "text"
      },
      "source": [
        "<a href=\"https://colab.research.google.com/github/wxch1994/report/blob/master/A1_report.ipynb\" target=\"_parent\"><img src=\"https://colab.research.google.com/assets/colab-badge.svg\" alt=\"Open In Colab\"/></a>"
      ]
    },
    {
      "cell_type": "markdown",
      "metadata": {
        "id": "vVTORiIAgoae",
        "colab_type": "text"
      },
      "source": [
        "#Review Report on \"The Computational Complexity of Probabilistic Inference Using Bayesian Belief Networks\"\n",
        "##https://github.com/wxch1994/report/blob/master/A1_report.ipynb\n",
        "\n",
        "##Xinchen wang 12772149"
      ]
    },
    {
      "cell_type": "markdown",
      "metadata": {
        "id": "bijqCUhrafcS",
        "colab_type": "text"
      },
      "source": [
        "# Introduction\n",
        "##The Bayesian network, also known as the Belief Network, or the directed acyclic graphical model, is a probability graph model first developed by Judea Pearl in 1985 put forward. This is an uncertainty processing model that simulates causality in human reasoning. Its network topology is a directed acyclic graph (DAG). In the belief network we assign causal (or unconditionally independent) variables or propositions with arrows (in other words, the arrows connecting the two nodes represent whether the two random variables are causal or unconditionally independent). If two nodes are connected by a single arrow, indicating that one of the nodes is \"parents\" and the other is \"children\", the two nodes will generate a conditional probability value (Ben‐Gal, 2008). For example, suppose node E directly affects node H, that is, E→H, and then establishes a directed arc (E, H) from node E to node H with an arrow pointing from E to H, and the weight (ie, the connection strength) is used (Druzdzel & Simon, 1993).\n",
        "##The Bayesian network is formed by plotting the random variables involved in a research system according to whether the conditions are independently drawn in a directed graph."
      ]
    },
    {
      "cell_type": "markdown",
      "metadata": {
        "id": "HpXqgRmSbG9C",
        "colab_type": "text"
      },
      "source": [
        "# Content\n",
        "##This paper is about the Bayesian belief network to solve some algorithmic problems of computational probability, and proposes a new algorithm design and then discusses whether it can solve the probability calculation problem of belief network. The belief network is currently used in AI technology, which is a machine learning method. However, the multi-connected belief algorithm is difficult to calculate the probability NP, and the algorithm using any topology map for probability estimation cannot solve this problem. Because there are more than one variable and more undirected connections between the connections of multiple belief networks (Cooper, 1990). In this paper, we first introduce the belief network and its probabilistic reasoning, as well as the main challenges - using algorithmic calculations to prove that the probability NP in a multi-connected belief network is difficult to calculate using ordinary algorithms, and should not be given with a higher priority. Finally, the different algorithm design is proposed, which is different from the general effective algorithm. It will use different algorithm calculations for good special-case, average-case and approximation algorithms, and discuss the future research direction.\n",
        "      \n",
        "##In the process of proving the probabilistic inference NP-hard, the belief network is first introduced. Any complete probabilistic model must have the ability to represent (directly or indirectly) the joint distribution of variables in the domain. A full enumeration requires an exponential scale (relative to the number of domain variables).\n",
        "##The designation of independence between variables in the network is the key to achieving a compact representation that is particularly effective in constructing Bayesian networks through human experts.\n",
        "\n",
        "##Finally, in the probabilistic reasoning part, it is proved that the belief network is NP-hard and proves that other more general forms of probabilistic reasoning are also NP-hard.\n",
        "\n",
        "##In the proof of NP-hard, the article uses an NP-complete problem (called 3-Satisfiability (3SAT) [5, 10]) to convert into a probabilistic reasoning decision problem (PIBNETD). The decision problem from PIBNETD is a probabilistic reasoning problem that can be directly converted into a simple PIBNET (Cooper, 1990). In the process of proof, this article defines 3SAT and lists specific algorithms to complete 3SAT conversion to PIBNETD, and finally concludes by demonstrating that PIBNET is NP-hard."
      ]
    },
    {
      "cell_type": "markdown",
      "metadata": {
        "id": "ITG_RxOybdK6",
        "colab_type": "text"
      },
      "source": [
        "# Innovation\n",
        "##In the topology diagram, Cooper (1990) interprets the working structure of the belief network in a graphical manner. In this way, the author expresses that the algorithm using Tutong cannot solve the probability estimation problem of the belief network. Because the multi-connected belief network has multiple connections and multiple uncertain connection directions, a new solution is needed. Get the correct calculation results.\n",
        "\n",
        "\n",
        "\n",
        "##In this article, the author's innovative choice uses the NP-hard constraint method to verify the problem of the belief network. If it can be proved that the belief network is NP-hard, then it can be determined that the general algorithm is used to estimate the development belief network should be very low priority.\n",
        "\n",
        "##In addition, in order to complete the proof, the author also used the conversion method to prove that the belief network is NP-hard (if you want to prove that a problem Q is NP-hard, then the Q' of the NP-complete problem is effectively converted to Q. So It can be proved), and 3SAT (3-Satisfiability) is used as an example of a protocol between NP-Complete.\n",
        "\n",
        "\n",
        "\n",
        "##In the proof of conversion, it can be seen that all NP problems can be stipulated to the SAT (ie NP<=SAT), which means that the SAT is at least as difficult as the NP problem, or if the 3SAT problem is solved, all NP problems are solved. Similarly, SAT<=3SAT, 3SAT<=Independent Set, Independent Set<=Vertex Cover OR Clique.\n",
        "\n",
        "##The protocol relationship is transitive, so there are 3SAT<=Vertex Cover, NP<=NP-Complete. In fact, since NP-Complete⊂⊂ NP and NP<=NP-Complete, it can be inferred that all NP-Complete can be mutually compliant, that is, all NP-Complete are equivalent.\n",
        "\n",
        "\n",
        "##Therefore, the author only needs to complete the 3SAT proof to complete the proof that the belief network is an NP-hard problem."
      ]
    },
    {
      "cell_type": "markdown",
      "metadata": {
        "id": "pn5KMPvyb7hT",
        "colab_type": "text"
      },
      "source": [
        "# Technical quality\n",
        "##In the general algorithmic inference, the problem of belief network is unsolvable, because the non-directionality and multiple variables cause the polynomial to be unable to get an answer even if it takes astronomical time. For example, the salesperson travel problem is one of the most representative NP problems. Suppose a salesman needs to depart from Beijing, pass through n cities such as Shanghai, Hangzhou, and Shenzhen, and finally return to Beijing. There are direct flights between any two cities, but the fares are not equal. Now suppose the company only reimburses C dollars and asks if there is a itinerary that allows him to traverse all cities, and the total toll is less than C?\n",
        "\n",
        "##The salesman's travel problem is obviously NP's problem. Because if you give an itinerary arbitrarily, you can easily calculate the total travel expenses. However, to know if a trip with a total toll is less than C, in the worst case, all possible travel arrangements must be checked! This will be an astronomical number. If there are seven cities, then there are 6!=720 sorting methods, which are relatively simple, but if there are 20 cities, there are 19! For the reason, in the arrangement of the combination n! It is easy to write. But 1.21∗10171.21∗1017 is a very big number. If it is arranged once every second, it should be 3.84∗1093.84∗109 years (about 3.15∗1073.15∗107 seconds a year), even if you use the calculator, it will be redone every million times (not easy to do). It would take a very long time that you maybe find the answer.\n",
        "\n",
        "##However, this article has a high technical quality. Cooper (1990) uses the conversion method to perform multiple conversions and then uses algorithmic calculations to verify that the belief network is an NP-hard problem, thus drawing conclusions and proposing different algorithms to solve different situations of belief networks. Cooper (1990) uses the 3SAT conversion of the NP-complete problem to solve the problem PIBNETD for algorithm verification, and the decision problem PIBNETD can be directly converted into a simple PIBNETD probability inference to complete the argument. The method of using this transformation can simplify the complicated algorithm problem. It is only necessary to use the 3SAT reduction to simply prove that PIBNETD is topologically restricted and the belief network is NP-hard."
      ]
    },
    {
      "cell_type": "markdown",
      "metadata": {
        "id": "SA3KGMXIcC5G",
        "colab_type": "text"
      },
      "source": [
        "# Application and X-factor\n",
        "##I think the proposed method is suitable for application in belief networks, especially for AI technology and medical fields, and can be of great help to future research. After proving that the belief network is an NP-hard problem, the author concludes that the general and accurate algorithms should not be used for probability estimation. Instead, the replacement strategy needs to be used according to different situations (including good special-case, average-case and approximation algorithms, etc.), the process of converting complex situations into simple calculations. So for this kind of proposal, the use of belief networks in research work in different fields should be studied to determine which appropriate algorithm to use.\n",
        "\n",
        "##For example, the approximation algorithms mentioned in this article have an inexactly bounded solution, but the error can be guaranteed to be within this range, and as the calculation continues, the range boundaries will gradually decrease (Dagum & Luby, 1993). If a certain range of reduction errors can be achieved within the allowed time range, this method may be used in some areas (such as medicine) to solve some important empirical problems.\n",
        "\n",
        "##This article also mentions good special-case algorithms, because not all cases apply to the convergence characteristics mentioned earlier. For example, the problem of certain fault trees and network reliability needs to be solved. The network that needs to use these special cases has the decomposability of the node cluster. Then, using good special-case algorithms, these multiple connected networks with small node clusters can be used. Perform an efficient algorithm calculation on it."
      ]
    },
    {
      "cell_type": "markdown",
      "metadata": {
        "id": "k71YrjCKcPwN",
        "colab_type": "text"
      },
      "source": [
        "# Presentation\n",
        "##The overall structure of this article is very clear, I think the excellent logical order of the article makes reading easy. In the introduction, the author introduces the main research directions of the article, and proves that the NP-hard problem lists enough formulas for the reader to fully understand the basic knowledge of the problem. Although the article uses a large number of algorithmic calculations to prove at the proof stage, the arguments in each of the previous chapters are easy to understand and explain why it is so difficult to calculate such a large number of calculations and direct NP-hard proofs. Moreover, the conversion method is also used in the algorithm proof part to make the reader understand more easily, avoiding the complicated and large amount of calculations and causing the reader to understand the proof process. In general, this is an excellent article with a very professional speech style, a very rigorous logical structure and a high academic depth. It is worth reading carefully when studying such issues.\n"
      ]
    },
    {
      "cell_type": "markdown",
      "metadata": {
        "id": "I3runxi2cWB6",
        "colab_type": "text"
      },
      "source": [
        "# References\n",
        "##Ben‐Gal, I. 2008, 'Bayesian networks', Encyclopedia of statistics in quality and reliability, vol. 1.\n",
        "\n",
        "##Cooper, G.F. 1990, 'The computational complexity of probabilistic inference using Bayesian belief networks', Artificial intelligence, vol. 42, no. 2-3, pp. 393-405.\n",
        "\n",
        "##Dagum, P. & Luby, M. 1993, 'Approximating probabilistic inference in Bayesian belief networks is NP-hard', Artificial intelligence, vol. 60, no. 1, pp. 141-53.\n",
        "\n",
        "##Druzdzel, M.J. & Simon, H.A. 1993, 'Causality in Bayesian belief networks', Proceedings of the Ninth international conference on Uncertainty in artificial intelligence, Morgan Kaufmann Publishers Inc., pp. 3-11."
      ]
    },
    {
      "cell_type": "markdown",
      "metadata": {
        "id": "GRbT_aVlbCGo",
        "colab_type": "text"
      },
      "source": [
        "# "
      ]
    }
  ]
}